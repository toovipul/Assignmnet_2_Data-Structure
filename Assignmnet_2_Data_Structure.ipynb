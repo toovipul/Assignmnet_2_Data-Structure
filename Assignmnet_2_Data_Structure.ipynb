{
  "nbformat": 4,
  "nbformat_minor": 0,
  "metadata": {
    "colab": {
      "provenance": []
    },
    "kernelspec": {
      "name": "python3",
      "display_name": "Python 3"
    },
    "language_info": {
      "name": "python"
    }
  },
  "cells": [
    {
      "cell_type": "markdown",
      "source": [
        "***1.Discuss string slicing and provide examples ***\n",
        "\n",
        "Answer:\n",
        "\n",
        "String Slicing in Python\n",
        "\n",
        "String slicing is a powerful technique in Python that allows you to extract specific portions of a string. It's like cutting out a desired piece from a larger string.\n",
        "\n",
        "Basic Syntax:\n",
        "\n",
        "start: The index of the first character to include in the slice (inclusive).\n",
        "\n",
        "end: The index of the first character to exclude from the slice (exclusive).\n",
        "\n",
        "step: The number of characters to skip between each included character.\n"
      ],
      "metadata": {
        "id": "qUUAJfunDHKk"
      }
    },
    {
      "cell_type": "code",
      "source": [
        "#Example string slicing\n",
        "\n",
        "text = \"Hello, World!\"\n",
        "\n",
        "# Extract the first 5 characters\n",
        "print(text[0:5])  # Output: Hello\n",
        "\n",
        "# Extract characters from index 7 to the end\n",
        "print(text[7:])   # Output: World!\n",
        "\n",
        "# Extract every other character from the beginning\n",
        "print(text[::2])  # Output: Hlo ol!\n",
        "\n",
        "# Reverse the string\n",
        "print(text[::-1])  # Output: !dlroW ,olleH"
      ],
      "metadata": {
        "colab": {
          "base_uri": "https://localhost:8080/"
        },
        "id": "olF3U4oZEV6-",
        "outputId": "bbc24e49-daf2-4fca-b803-5e51cdd80977"
      },
      "execution_count": 1,
      "outputs": [
        {
          "output_type": "stream",
          "name": "stdout",
          "text": [
            "Hello\n",
            "World!\n",
            "Hlo ol!\n",
            "!dlroW ,olleH\n"
          ]
        }
      ]
    },
    {
      "cell_type": "markdown",
      "source": [
        "**2.Explain the key features of lists in Python**\n",
        "\n",
        "Answer:\n",
        "\n",
        "Lists are one of the most versatile data structures in Python, offering a dynamic and flexible way to store and manipulate collections of items. Here are some of their key features:\n",
        "1. Ordered and Mutable:\n",
        "\n",
        "Ordered: Items in a list are stored in a specific sequence, and their order matters.\n",
        "Mutable: You can modify the contents of a list after it's created by adding, removing, or changing elements.\n",
        "2. Heterogeneous Data Types:\n",
        "\n",
        "Lists can hold elements of different data types, such as integers, floats, strings, or even other lists.\n",
        "3. Dynamic Sizing:\n",
        "\n",
        "Lists can grow or shrink as needed, making them suitable for various applications where the number of elements may change.\n",
        "4. Indexing and Slicing:\n",
        "\n",
        "Indexing: You can access individual elements using zero-based indexing. For example, my_list[0] accesses the first element.\n",
        "Slicing: You can extract portions of a list using slicing notation. For example, my_list[2:5] extracts elements from index 2 to 4.\n",
        "5. Common Operations:\n",
        "\n",
        "Adding Elements:\n",
        "\n",
        "append(): Adds an element to the end of the list.\n",
        "\n",
        "insert(index, element): Inserts an element at a specific index.\n",
        "\n",
        "extend(iterable): Appends elements from an iterable (like another list or tuple) to the end.\n",
        "\n",
        "Removing Elements:\n",
        "pop(): Removes and returns the last element.\n",
        "\n",
        "pop(index): Removes and returns the element at a specific index.\n",
        "\n",
        "remove(element): Removes the first occurrence of a specific element.\n",
        "\n",
        "Other Operations:\n",
        "\n",
        "len(): Returns the number of elements in the list.\n",
        "\n",
        "clear(): Removes all elements from the list.\n",
        "\n",
        "reverse(): Reverses the order of elements.\n",
        "\n",
        "sort(): Sorts the elements in ascending order.\n",
        "\n",
        "count(element): Counts the number of occurrences of a specific element."
      ],
      "metadata": {
        "id": "rsSgMTqOEnH-"
      }
    },
    {
      "cell_type": "code",
      "source": [
        "#Examples key features of lists\n",
        "# Create a list\n",
        "my_list = [1, 2, 3, \"hello\", 4.5]\n",
        "\n",
        "# Access elements by index\n",
        "print(my_list[0])  # Output: 1\n",
        "print(my_list[2])  # Output: 3\n",
        "\n",
        "# Slicing\n",
        "print(my_list[1:4])  # Output: [2, 3, 'hello']\n",
        "print(my_list[:3])   # Output: [1, 2, 3]\n",
        "print(my_list[3:])   # Output: ['hello', 4.5]\n",
        "\n",
        "# Modify elements\n",
        "my_list[1] = 10\n",
        "print(my_list)  # Output: [1, 10, 3, 'hello', 4.5]\n",
        "\n",
        "# Add elements\n",
        "my_list.append(6)\n",
        "print(my_list)  # Output: [1, 10, 3, 'hello', 4.5, 6]\n",
        "\n",
        "# Remove elements\n",
        "my_list.remove(\"hello\")\n",
        "print(my_list)  # Output: [1, 10, 3, 4.5, 6]\n",
        "\n",
        "# Iterate over the list\n",
        "for item in my_list:\n",
        "    print(item)\n"
      ],
      "metadata": {
        "colab": {
          "base_uri": "https://localhost:8080/"
        },
        "id": "1LzCtKRIFkrO",
        "outputId": "7da2a68b-3aef-40c8-ab7c-19039d37275f"
      },
      "execution_count": 4,
      "outputs": [
        {
          "output_type": "stream",
          "name": "stdout",
          "text": [
            "1\n",
            "3\n",
            "[2, 3, 'hello']\n",
            "[1, 2, 3]\n",
            "['hello', 4.5]\n",
            "[1, 10, 3, 'hello', 4.5]\n",
            "[1, 10, 3, 'hello', 4.5, 6]\n",
            "[1, 10, 3, 4.5, 6]\n",
            "1\n",
            "10\n",
            "3\n",
            "4.5\n",
            "6\n"
          ]
        }
      ]
    },
    {
      "cell_type": "markdown",
      "source": [
        "** 3.Describe how to access, modify, and delete elements in a list with examples**\n",
        "\n",
        "Accessing Elements in a List\n",
        "\n",
        "To access an element in a list, you use its index. Python uses zero-based indexing, meaning the first element has an index of 0, the second has an index of 1, and so on.\n"
      ],
      "metadata": {
        "id": "tYi-b17CHQjg"
      }
    },
    {
      "cell_type": "code",
      "source": [
        "#Example 1 :Describe how to access\n",
        "my_list = [\"apple\", \"banana\", \"cherry\"]\n",
        "print(my_list[0])  # Output: apple\n",
        "print(my_list[1])  # Output: banana"
      ],
      "metadata": {
        "colab": {
          "base_uri": "https://localhost:8080/"
        },
        "id": "ztE3kwKKHoH0",
        "outputId": "db98a049-d0f4-470e-9dc2-fc66ecc3ff6b"
      },
      "execution_count": 5,
      "outputs": [
        {
          "output_type": "stream",
          "name": "stdout",
          "text": [
            "apple\n",
            "banana\n"
          ]
        }
      ]
    },
    {
      "cell_type": "markdown",
      "source": [
        "Modifying Elements in a List\n",
        "\n",
        "To modify an element, simply assign a new value to it using its index.\n"
      ],
      "metadata": {
        "id": "8ZEm6bDZH2aW"
      }
    },
    {
      "cell_type": "code",
      "source": [
        "#Example 2 :Modifying Elements in a List\n",
        "my_list = [\"apple\", \"banana\", \"cherry\"]\n",
        "my_list[1] = \"orange\"\n",
        "print(my_list)  # Output: ['apple', 'orange', 'cherry']"
      ],
      "metadata": {
        "colab": {
          "base_uri": "https://localhost:8080/"
        },
        "id": "s_WTuHO5IEPQ",
        "outputId": "c2c21971-260b-40e4-f346-91baa4078aa8"
      },
      "execution_count": 6,
      "outputs": [
        {
          "output_type": "stream",
          "name": "stdout",
          "text": [
            "['apple', 'orange', 'cherry']\n"
          ]
        }
      ]
    },
    {
      "cell_type": "markdown",
      "source": [
        "Deleting Elements in a List\n",
        "\n",
        "You can delete elements using the del keyword or list methods like pop() and remove().\n",
        "\n"
      ],
      "metadata": {
        "id": "mAW-_D8BNbw0"
      }
    },
    {
      "cell_type": "code",
      "source": [
        "#Example 3 : Using del:\n",
        "my_list = [\"apple\", \"banana\", \"cherry\"]\n",
        "del my_list[1]  # Delete the element at index 1\n",
        "print(my_list)  # Output: ['apple', 'cherry']"
      ],
      "metadata": {
        "colab": {
          "base_uri": "https://localhost:8080/"
        },
        "id": "XfCRX3yJNio1",
        "outputId": "a6607ccb-bd73-4ce6-82fd-a85aeebf9eee"
      },
      "execution_count": 1,
      "outputs": [
        {
          "output_type": "stream",
          "name": "stdout",
          "text": [
            "['apple', 'cherry']\n"
          ]
        }
      ]
    },
    {
      "cell_type": "code",
      "source": [
        "##Example 4 : Using pop():\n",
        "my_list = [\"apple\", \"banana\", \"cherry\"]\n",
        "removed_item = my_list.pop(1)  # Remove and return the element at index 1\n",
        "print(my_list)  # Output: ['apple', 'cherry']\n",
        "print(removed_item)  # Output: banana"
      ],
      "metadata": {
        "colab": {
          "base_uri": "https://localhost:8080/"
        },
        "id": "KfKfa65JNxze",
        "outputId": "f468ca5c-0b62-4a60-d637-879c8b80ecab"
      },
      "execution_count": 2,
      "outputs": [
        {
          "output_type": "stream",
          "name": "stdout",
          "text": [
            "['apple', 'cherry']\n",
            "banana\n"
          ]
        }
      ]
    },
    {
      "cell_type": "code",
      "source": [
        "#Example 5 : Using remove():\n",
        "my_list = [\"apple\", \"banana\", \"cherry\", \"banana\"]\n",
        "my_list.remove(\"banana\")  # Remove the first occurrence of 'banana'\n",
        "print(my_list)  # Output: ['apple', 'cherry', 'banana']"
      ],
      "metadata": {
        "colab": {
          "base_uri": "https://localhost:8080/"
        },
        "id": "uG0K9j1qN_5Z",
        "outputId": "f21be2d6-b36d-4d21-910d-746f76d283ac"
      },
      "execution_count": 3,
      "outputs": [
        {
          "output_type": "stream",
          "name": "stdout",
          "text": [
            "['apple', 'cherry', 'banana']\n"
          ]
        }
      ]
    },
    {
      "cell_type": "markdown",
      "source": [
        "**4.Compare and contrast tuples and lists with examples**\n",
        "\n",
        "Answer:\n",
        "\n",
        "In Python, tuples and lists are fundamental data structures used to store collections of items. While they share similarities, they have distinct characteristics that make them suitable for different purposes.\n",
        "\n",
        "Similarities:\n",
        "\n",
        "Ordered: Both tuples and lists store elements in a specific order, allowing you to access them by their index.\n",
        "Iterable: You can iterate over both tuples and lists using loops to process each element.\n",
        "\n",
        "**Differences**:\n",
        "\n",
        "Tuples:\n",
        "\n",
        "Immutable: Once created, their elements cannot be changed.\n",
        "Defined using parentheses: my_tuple = (1, 2, 3)\n",
        "\n",
        "Use cases:\n",
        "\n",
        "Storing fixed data that doesn't change (e.g., configuration settings, coordinates)\n",
        "\n",
        "Returning multiple values from a function\n",
        "\n",
        "Creating immutable data structures\n",
        "\n",
        "Lists:\n",
        "\n",
        "Mutable: Elements can be added, removed, or modified after creation.\n",
        "Defined using square brackets: my_list = [10, 20, 30]\n",
        "\n",
        "Use cases:\n",
        "\n",
        "Storing and manipulating dynamic data (e.g., user input, database records)\n",
        "Creating lists of lists for complex data structures\n",
        "\n",
        "\n",
        "\n"
      ],
      "metadata": {
        "id": "jlrinDcjO2NU"
      }
    },
    {
      "cell_type": "code",
      "source": [
        "#Example:Compare and contrast tuples and lists with examples\n",
        "# Tuple\n",
        "my_tuple = (1, 2, 3, \"hello\")\n",
        "\n",
        "# List\n",
        "my_list = [10, 20, 30, \"world\"]\n",
        "\n",
        "# Accessing elements:\n",
        "print(my_tuple[1])  # Output: 2\n",
        "print(my_list[2])   # Output: 30\n",
        "\n",
        "# Iterating over elements:\n",
        "for item in my_tuple:\n",
        "    print(item)\n",
        "\n",
        "for item in my_list:\n",
        "    print(item)"
      ],
      "metadata": {
        "colab": {
          "base_uri": "https://localhost:8080/"
        },
        "id": "_-zih2wxPulj",
        "outputId": "7bceedeb-d90b-4f31-f901-0de25a96df1c"
      },
      "execution_count": 4,
      "outputs": [
        {
          "output_type": "stream",
          "name": "stdout",
          "text": [
            "2\n",
            "30\n",
            "1\n",
            "2\n",
            "3\n",
            "hello\n",
            "10\n",
            "20\n",
            "30\n",
            "world\n"
          ]
        }
      ]
    },
    {
      "cell_type": "markdown",
      "source": [
        "**Key Differences Summarized:**\n",
        "\n",
        "Immutability: Tuples are immutable, making them suitable for representing data that should not change, such as configuration settings or database records. Lists, on the other hand, are mutable, allowing for dynamic modifications.\n",
        "Performance: Tuples are generally more efficient than lists, especially in terms of memory usage and certain operations.\n",
        "Use Cases: Tuples are often used for data that needs to be protected from accidental modification, while lists are better suited for storing and manipulating data that may change over time.\n",
        "By understanding these differences, you can choose the appropriate data structure for your specific needs in Python programming."
      ],
      "metadata": {
        "id": "snKJ3oXjQMvo"
      }
    },
    {
      "cell_type": "markdown",
      "source": [
        "**5.Describe the key features of sets and provide examples of their use**\n",
        "\n",
        "Answer:\n",
        "\n",
        "Sets in Python\n",
        "\n",
        "Sets are unordered collections of unique elements. They are defined using curly braces {} and are useful for removing duplicates from a list, performing set operations like union, intersection, and difference, and checking membership.\n",
        "\n",
        "Key Features of Sets:\n",
        "\n",
        "Unordered: Elements in a set do not have a specific order.\n",
        "Unique: Each element can only appear once in a set.\n",
        "Mutable: You can add or remove elements from a set after it's created.\n"
      ],
      "metadata": {
        "id": "sh7jnznARleG"
      }
    },
    {
      "cell_type": "code",
      "source": [
        "#Example 1: key features of sets\n",
        "my_set = {1, 2, 3, 4, 5}\n",
        "print(my_set)  # Output: {1, 2, 3, 4, 5}\n",
        "\n",
        "# Adding an element\n",
        "my_set.add(6)\n",
        "print(my_set)  # Output: {1, 2, 3, 4, 5, 6}\n",
        "\n",
        "# Removing an element\n",
        "my_set.remove(3)\n",
        "print(my_set)  # Output: {1, 2, 4, 5, 6}\n"
      ],
      "metadata": {
        "colab": {
          "base_uri": "https://localhost:8080/"
        },
        "collapsed": true,
        "id": "LJrymEdFSIft",
        "outputId": "6228f51c-8587-4f0c-f064-e864b9ab26db"
      },
      "execution_count": 5,
      "outputs": [
        {
          "output_type": "stream",
          "name": "stdout",
          "text": [
            "{1, 2, 3, 4, 5}\n",
            "{1, 2, 3, 4, 5, 6}\n",
            "{1, 2, 4, 5, 6}\n"
          ]
        }
      ]
    },
    {
      "cell_type": "code",
      "source": [
        "#Example 2: Common Set Operations:\n",
        "#Union: Combines elements from two sets, removing duplicates.\n",
        "set1 = {1, 2, 3}\n",
        "set2 = {3, 4, 5}\n",
        "union_set = set1.union(set2)\n",
        "print(union_set)  # Output: {1, 2, 3, 4, 5}\n"
      ],
      "metadata": {
        "colab": {
          "base_uri": "https://localhost:8080/"
        },
        "id": "cSIZ4SP3Wfel",
        "outputId": "26f2a105-4cfc-4b96-c7f4-e385dccf6a70"
      },
      "execution_count": 6,
      "outputs": [
        {
          "output_type": "stream",
          "name": "stdout",
          "text": [
            "{1, 2, 3, 4, 5}\n"
          ]
        }
      ]
    },
    {
      "cell_type": "code",
      "source": [
        "#Example 3 :Intersection Finds elements present in both sets.\n",
        "intersection_set = set1.intersection(set2)\n",
        "print(intersection_set)  # Output: {3}"
      ],
      "metadata": {
        "colab": {
          "base_uri": "https://localhost:8080/"
        },
        "id": "LdHFDuoyWzyG",
        "outputId": "f84b229b-04d6-4326-cdbf-f9a18145602b"
      },
      "execution_count": 7,
      "outputs": [
        {
          "output_type": "stream",
          "name": "stdout",
          "text": [
            "{3}\n"
          ]
        }
      ]
    },
    {
      "cell_type": "code",
      "source": [
        "#Example 4 : Difference: Finds elements present in the first set but not in the second.\n",
        "difference_set = set1.difference(set2)\n",
        "print(difference_set)  # Output: {1, 2}"
      ],
      "metadata": {
        "colab": {
          "base_uri": "https://localhost:8080/"
        },
        "id": "-qA98-2KW9uE",
        "outputId": "1482abdb-6f09-4da5-c055-2f00ec8e70e1"
      },
      "execution_count": 8,
      "outputs": [
        {
          "output_type": "stream",
          "name": "stdout",
          "text": [
            "{1, 2}\n"
          ]
        }
      ]
    },
    {
      "cell_type": "code",
      "source": [
        "#Example 5:Symmetric Difference: Finds elements present in either set, but not in both.\n",
        "symmetric_difference_set = set1.symmetric_difference(set2)\n",
        "\n",
        "print(symmetric_difference_set)  # Output: {1, 2, 4, 5}\n"
      ],
      "metadata": {
        "colab": {
          "base_uri": "https://localhost:8080/"
        },
        "id": "5yzSwLJNXO3U",
        "outputId": "de24c59e-5eb7-43bf-b9d0-006ed56057a2"
      },
      "execution_count": 9,
      "outputs": [
        {
          "output_type": "stream",
          "name": "stdout",
          "text": [
            "{1, 2, 4, 5}\n"
          ]
        }
      ]
    },
    {
      "cell_type": "code",
      "source": [
        "#Example 6 :Removing Duplicates:\n",
        "my_list = [1, 2, 2, 3, 3, 3]\n",
        "unique_elements = set(my_list)\n",
        "print(unique_elements)  # Output: {1, 2, 3}"
      ],
      "metadata": {
        "colab": {
          "base_uri": "https://localhost:8080/"
        },
        "id": "D3gqCDTBXZQ8",
        "outputId": "9556ef61-7f72-417a-f1e3-5bb0f3de5646"
      },
      "execution_count": 11,
      "outputs": [
        {
          "output_type": "stream",
          "name": "stdout",
          "text": [
            "{1, 2, 3}\n"
          ]
        }
      ]
    },
    {
      "cell_type": "markdown",
      "source": [
        "**6.Discuss the use cases of tuples and sets in Python programming**\n",
        "\n",
        "Answer:\n",
        "\n",
        "Tuples\n",
        "\n",
        "Tuples are an immutable data structure in Python, meaning their elements cannot be changed once they are assigned. They are often used in scenarios where you want to ensure data integrity and prevent accidental modifications.\n",
        "\n",
        "Common Use Cases of Tuples:\n",
        "\n",
        "Representing immutable data:\n",
        "\n",
        "Coordinates: (x, y)\n",
        "\n",
        "Colors: (r, g, b)\n",
        "\n",
        "Date and Time: (year, month, day, hour, minute, second)\n",
        "\n",
        "Returning multiple values from a function:\n",
        "\n",
        "Functions can return multiple values as a tuple. For example, a function might return both the area and perimeter of a shape.\n",
        "As keys in dictionaries:\n",
        "\n",
        "Tuples can be used as keys in dictionaries, as they are hashable.\n",
        "Sets\n",
        "\n",
        "Sets are unordered collections of unique elements. They are useful for removing duplicates, performing set operations, and checking membership.\n",
        "\n",
        "Common Use Cases of Sets:\n",
        "\n",
        "Removing duplicates:\n",
        "\n",
        "You can convert a list to a set to remove duplicate elements.\n",
        "Membership testing:\n",
        "\n",
        "Quickly check if an element is present in a set.\n",
        "Set operations:\n",
        "\n",
        "Perform operations like union, intersection, difference, and symmetric difference on sets.\n",
        "Unique identifiers:\n",
        "\n",
        "Sets can be used to generate unique identifiers or labels."
      ],
      "metadata": {
        "id": "ZpvRX8vQX7tv"
      }
    },
    {
      "cell_type": "code",
      "source": [
        "#Example the use cases of tuples and sets in Python\n",
        "\n",
        "# Tuples\n",
        "coordinates = (10, 20)\n",
        "color = (255, 0, 0)\n",
        "\n",
        "# Sets\n",
        "my_set = {1, 2, 3, 3, 4}  # Removes duplicates\n",
        "print(my_set)  # Output: {1, 2, 3, 4}\n",
        "\n",
        "# Set operations\n",
        "set1 = {1, 2, 3}\n",
        "set2 = {2, 3, 4}\n",
        "union_set = set1.union(set2)  # {1, 2, 3, 4}\n",
        "intersection_set = set1.intersection(set2)  # {2, 3}"
      ],
      "metadata": {
        "colab": {
          "base_uri": "https://localhost:8080/"
        },
        "id": "LnQulFuzYn_W",
        "outputId": "ea8d17f9-df57-4694-bba5-e1ff27445b90"
      },
      "execution_count": 12,
      "outputs": [
        {
          "output_type": "stream",
          "name": "stdout",
          "text": [
            "{1, 2, 3, 4}\n"
          ]
        }
      ]
    },
    {
      "cell_type": "markdown",
      "source": [
        "**7.Describe how to add, modify, and delete items in a dictionary with examples**\n",
        "\n",
        "Answer:\n",
        "\n",
        "Dictionaries in Python\n",
        "\n",
        "Dictionaries are unordered collections of key-value pairs. They are defined using curly braces {} and are incredibly versatile for storing and retrieving data.\n",
        "\n",
        "Adding Items\n",
        "\n",
        "To add a new key-value pair to a dictionary, simply assign a value to a new key:"
      ],
      "metadata": {
        "id": "_TGXoVHBZLt3"
      }
    },
    {
      "cell_type": "code",
      "source": [
        "#Example 1 :Adding Items\n",
        "#To add a new key-value pair to a dictionary, simply assign a value to a new key:\n",
        "\n",
        "my_dict = {'name': 'Alice', 'age': 30}\n",
        "my_dict['city'] = 'New York'\n",
        "print(my_dict)  # Output: {'name': 'Alice', 'age': 30, 'city': 'New York'}\n"
      ],
      "metadata": {
        "colab": {
          "base_uri": "https://localhost:8080/"
        },
        "id": "PUUtrXtjZobM",
        "outputId": "57becdd7-291a-40b3-d3e8-8cb6e6ba006e"
      },
      "execution_count": 13,
      "outputs": [
        {
          "output_type": "stream",
          "name": "stdout",
          "text": [
            "{'name': 'Alice', 'age': 30, 'city': 'New York'}\n"
          ]
        }
      ]
    },
    {
      "cell_type": "code",
      "source": [
        "#Example 2: Modifying Items To modify an existing value, simply assign a new value to the key:\n",
        "\n",
        "my_dict['age'] = 31\n",
        "print(my_dict)  # Output: {'name': 'Alice', 'age': 31, 'city': 'New York'}\n"
      ],
      "metadata": {
        "colab": {
          "base_uri": "https://localhost:8080/"
        },
        "id": "fZ3GFP82Z6gj",
        "outputId": "32f7e208-d4cc-419a-cc88-532afcefba58"
      },
      "execution_count": 14,
      "outputs": [
        {
          "output_type": "stream",
          "name": "stdout",
          "text": [
            "{'name': 'Alice', 'age': 31, 'city': 'New York'}\n"
          ]
        }
      ]
    },
    {
      "cell_type": "code",
      "source": [
        "#Example 3 :Deleting Items You can delete items using the del keyword:\n",
        "del my_dict['city']\n",
        "print(my_dict)  # Output: {'name': 'Alice', 'age': 31}"
      ],
      "metadata": {
        "colab": {
          "base_uri": "https://localhost:8080/"
        },
        "id": "iEvWUB3vaPVt",
        "outputId": "941e6049-a63f-4fea-c1f7-747f6aa63d3e"
      },
      "execution_count": 15,
      "outputs": [
        {
          "output_type": "stream",
          "name": "stdout",
          "text": [
            "{'name': 'Alice', 'age': 31}\n"
          ]
        }
      ]
    },
    {
      "cell_type": "markdown",
      "source": [
        "**8. Discuss the importance of dictionary keys being immutable and provide examples**\n",
        "\n",
        "Answer:\n",
        "\n",
        "In Python, dictionary keys must be immutable. This is a fundamental requirement to ensure the correct functioning of hash tables, the underlying data structure used to implement dictionaries.\n",
        "\n",
        "Why Immutability?\n",
        "\n",
        "Hashing:\n",
        "\n",
        "Hash tables use hash functions to calculate a hash code for each key. This hash code is used to determine the key's position in the table.\n",
        "If keys were mutable, their hash codes could change over time, leading to inconsistencies and potential errors in the dictionary's operations.\n",
        "Efficient Lookups:\n",
        "\n",
        "Immutable keys allow for efficient lookup operations. Once a key's hash code is calculated, it remains constant, enabling the dictionary to quickly locate the corresponding value."
      ],
      "metadata": {
        "id": "G3WD5e41aqtn"
      }
    },
    {
      "cell_type": "code",
      "source": [
        "#Example 1: Immutable Key Types: (Strings)\n",
        "my_dict = {'apple': 2, 'banana': 3}\n",
        "print(my_dict)\n",
        "#Strings are immutable, making them ideal as dictionary keys.\n"
      ],
      "metadata": {
        "colab": {
          "base_uri": "https://localhost:8080/"
        },
        "id": "PNaK80hPbHJs",
        "outputId": "aab5fabb-e477-463e-f7b1-c2a0028a0d45"
      },
      "execution_count": 17,
      "outputs": [
        {
          "output_type": "stream",
          "name": "stdout",
          "text": [
            "{'apple': 2, 'banana': 3}\n"
          ]
        }
      ]
    },
    {
      "cell_type": "code",
      "source": [
        "#Example 2:Immutable Key Types:(Numbers)\n",
        "my_dict = {1: 'one', 2: 'two', 3: 'three'}\n",
        "print(my_dict)\n",
        "#Integers and floating-point numbers are immutable, and thus valid key types.\n"
      ],
      "metadata": {
        "colab": {
          "base_uri": "https://localhost:8080/"
        },
        "id": "xXmkZ_72bgLH",
        "outputId": "0fe96fe0-7165-4df4-fa07-c34d72857c31"
      },
      "execution_count": 18,
      "outputs": [
        {
          "output_type": "stream",
          "name": "stdout",
          "text": [
            "{1: 'one', 2: 'two', 3: 'three'}\n"
          ]
        }
      ]
    },
    {
      "cell_type": "code",
      "source": [
        "#Example 3:Immutable Key Types:(Tuples)\n",
        "my_dict = {(1, 2): 'point1', (3, 4): 'point2'}\n",
        "print(my_dict)\n",
        "#Tuples containing immutable elements are also valid keys."
      ],
      "metadata": {
        "id": "N4FQ6wfccJ2t"
      },
      "execution_count": null,
      "outputs": []
    },
    {
      "cell_type": "code",
      "source": [
        "#Example 4 : Non-Immutable Types \"Invalid as Keys\" (Lists)\n",
        "# This will raise a TypeError\n",
        "my_dict = {[1, 2]: 'list_key'}\n",
        "#Lists are mutable, so they cannot be used as dictionary keys.\n"
      ],
      "metadata": {
        "colab": {
          "base_uri": "https://localhost:8080/",
          "height": 176
        },
        "collapsed": true,
        "id": "rdDMrw1ldPxk",
        "outputId": "10734b5c-6ef7-4b76-e207-13bd200d05d7"
      },
      "execution_count": 19,
      "outputs": [
        {
          "output_type": "error",
          "ename": "TypeError",
          "evalue": "unhashable type: 'list'",
          "traceback": [
            "\u001b[0;31m---------------------------------------------------------------------------\u001b[0m",
            "\u001b[0;31mTypeError\u001b[0m                                 Traceback (most recent call last)",
            "\u001b[0;32m<ipython-input-19-7b678ea202a2>\u001b[0m in \u001b[0;36m<cell line: 3>\u001b[0;34m()\u001b[0m\n\u001b[1;32m      1\u001b[0m \u001b[0;31m#Example 4 :Examples of Non-Immutable Types (Invalid as Keys)\u001b[0m\u001b[0;34m\u001b[0m\u001b[0;34m\u001b[0m\u001b[0m\n\u001b[1;32m      2\u001b[0m \u001b[0;31m# This will raise a TypeError\u001b[0m\u001b[0;34m\u001b[0m\u001b[0;34m\u001b[0m\u001b[0m\n\u001b[0;32m----> 3\u001b[0;31m \u001b[0mmy_dict\u001b[0m \u001b[0;34m=\u001b[0m \u001b[0;34m{\u001b[0m\u001b[0;34m[\u001b[0m\u001b[0;36m1\u001b[0m\u001b[0;34m,\u001b[0m \u001b[0;36m2\u001b[0m\u001b[0;34m]\u001b[0m\u001b[0;34m:\u001b[0m \u001b[0;34m'list_key'\u001b[0m\u001b[0;34m}\u001b[0m\u001b[0;34m\u001b[0m\u001b[0;34m\u001b[0m\u001b[0m\n\u001b[0m",
            "\u001b[0;31mTypeError\u001b[0m: unhashable type: 'list'"
          ]
        }
      ]
    },
    {
      "cell_type": "code",
      "source": [
        "#Example 5 : Non-Immutable Types \"Invalid as Keys\" (Sets)\n",
        "# This will also raise a TypeError\n",
        "my_dict = {{1, 2}: 'set_key'}\n",
        "#Sets are mutable, making them invalid as dictionary keys."
      ],
      "metadata": {
        "id": "nexw-XWodj4v"
      },
      "execution_count": null,
      "outputs": []
    }
  ]
}